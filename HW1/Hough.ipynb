{
 "cells": [
  {
   "cell_type": "code",
   "execution_count": 29,
   "metadata": {
    "collapsed": true
   },
   "outputs": [],
   "source": [
    "import numpy as np\n",
    "import pandas as pd\n",
    "import matplotlib.pyplot as plt\n",
    "from IPython.display import Image as IPImage\n",
    "import scipy.ndimage as ndimage\n",
    "from scipy import signal, misc\n",
    "from skimage import feature\n",
    "import math"
   ]
  },
  {
   "cell_type": "code",
   "execution_count": 2,
   "metadata": {
    "collapsed": true
   },
   "outputs": [],
   "source": [
    "def showImage(im):\n",
    "    plt.clf()\n",
    "    plt.imshow(im)\n",
    "    plt.show()"
   ]
  },
  {
   "cell_type": "code",
   "execution_count": 114,
   "metadata": {
    "collapsed": true
   },
   "outputs": [],
   "source": [
    "filename = 'colorful3_threshold.jpg'\n",
    "name = 'mooncraters'\n",
    "r = 40"
   ]
  },
  {
   "cell_type": "code",
   "execution_count": 115,
   "metadata": {
    "collapsed": true
   },
   "outputs": [],
   "source": [
    "image = misc.imread(filename)"
   ]
  },
  {
   "cell_type": "code",
   "execution_count": 116,
   "metadata": {
    "collapsed": false
   },
   "outputs": [
    {
     "data": {
      "text/plain": [
       "23"
      ]
     },
     "execution_count": 116,
     "metadata": {},
     "output_type": "execute_result"
    }
   ],
   "source": [
    "a = 23.7\n",
    "int(a)"
   ]
  },
  {
   "cell_type": "code",
   "execution_count": 117,
   "metadata": {
    "collapsed": true
   },
   "outputs": [],
   "source": [
    "def hough(im):\n",
    "    hough_bins = np.zeros((im.shape[0] / 10 + 1, im.shape[1] / 10 + 1))\n",
    "    for x in range(im.shape[0]):\n",
    "        for y in range(im.shape[1]):\n",
    "            if im[x,y] == 255:\n",
    "                for x0 in range(im.shape[0]):\n",
    "                    if r*r - (x-x0)*(x-x0) < 0:\n",
    "                        continue\n",
    "                    y0 = y - math.sqrt(r*r - (x-x0)*(x-x0))\n",
    "                    hough_bins[x0 / 10 - 1, int(y0) / 10 - 1] = hough_bins[x0 / 10 - 1, int(y0) / 10 - 1] + 1\n",
    "    return hough_bins"
   ]
  },
  {
   "cell_type": "code",
   "execution_count": 118,
   "metadata": {
    "collapsed": false
   },
   "outputs": [
    {
     "data": {
      "text/plain": [
       "array([[ 434.,  282.,  224., ...,  443.,  527.,  512.],\n",
       "       [ 637.,  358.,  250., ...,  441.,  589.,  620.],\n",
       "       [ 700.,  516.,  329., ...,  542.,  617.,  726.],\n",
       "       ..., \n",
       "       [ 387.,  327.,  149., ...,  289.,  288.,  451.],\n",
       "       [ 176.,  143.,   57., ...,  113.,   90.,  171.],\n",
       "       [ 325.,  314.,  138., ...,  325.,  463.,  481.]])"
      ]
     },
     "execution_count": 118,
     "metadata": {},
     "output_type": "execute_result"
    }
   ],
   "source": [
    "hb = hough(image)\n",
    "hb"
   ]
  },
  {
   "cell_type": "code",
   "execution_count": 119,
   "metadata": {
    "collapsed": false
   },
   "outputs": [
    {
     "data": {
      "text/plain": [
       "1363.0"
      ]
     },
     "execution_count": 119,
     "metadata": {},
     "output_type": "execute_result"
    }
   ],
   "source": [
    "hb.max()"
   ]
  },
  {
   "cell_type": "code",
   "execution_count": 120,
   "metadata": {
    "collapsed": false
   },
   "outputs": [
    {
     "data": {
      "text/plain": [
       "25"
      ]
     },
     "execution_count": 120,
     "metadata": {},
     "output_type": "execute_result"
    }
   ],
   "source": [
    "np.where(hb == 690)[0][0]"
   ]
  },
  {
   "cell_type": "code",
   "execution_count": 121,
   "metadata": {
    "collapsed": false
   },
   "outputs": [
    {
     "data": {
      "text/plain": [
       "(array([], dtype=int64), array([], dtype=int64))"
      ]
     },
     "execution_count": 121,
     "metadata": {},
     "output_type": "execute_result"
    }
   ],
   "source": [
    "np.where(hb == 84)"
   ]
  },
  {
   "cell_type": "code",
   "execution_count": 125,
   "metadata": {
    "collapsed": false
   },
   "outputs": [
    {
     "name": "stdout",
     "output_type": "stream",
     "text": [
      "(array([19]), array([9]))\n",
      "(array([18]), array([8]))\n"
     ]
    }
   ],
   "source": [
    "hb2 = np.copy(hb)\n",
    "plt.clf()\n",
    "plt.imshow(image)\n",
    "for x in range(2):\n",
    "    loc = np.where(hb2 == hb2.max())\n",
    "    print loc\n",
    "    circle1 = plt.Circle((loc[0][0]*10 + 5, loc[1][0]*10 + 5),r,color='y',fill=0)\n",
    "    plt.gca().add_artist(circle1)\n",
    "    hb2[loc[0][0], loc[1][0]] = 0\n",
    "plt.show()"
   ]
  },
  {
   "cell_type": "code",
   "execution_count": 41,
   "metadata": {
    "collapsed": false
   },
   "outputs": [
    {
     "data": {
      "text/plain": [
       "array([[17, 25, 50,  3,  4,  5, 46, 41, 30, 28, 26, 24, 22, 13, 18, 51, 40,\n",
       "        33, 14, 19, 20, 21, 12,  2, 11,  1, 10, 49,  9, 29, 48, 47,  6, 44,\n",
       "        34, 42, 36, 37, 38, 39, 16, 23,  0, 32,  8,  7, 15, 27, 43, 35, 31,\n",
       "        45],\n",
       "       [17, 25, 41, 36,  4,  5, 30, 29, 24,  9, 22, 11, 21, 13, 14, 19, 18,\n",
       "         0, 39, 51, 20, 12, 10, 50, 49,  1, 26, 48, 28, 47,  6, 46, 43, 33,\n",
       "         2, 35,  3, 40, 34, 38, 44, 31, 23,  7,  8, 27, 32, 37, 42, 15, 45,\n",
       "        16],\n",
       "       [14, 25, 49, 44, 41, 37, 36, 30, 23, 22, 19, 18, 17,  0, 40, 13, 50,\n",
       "        12, 11, 10, 20, 21,  9,  8, 24,  1, 26, 27, 28, 29,  2, 31, 47, 33,\n",
       "        34,  3,  6,  5, 38,  4, 51, 48, 46, 43, 35, 39, 42, 32, 15, 45, 16,\n",
       "         7],\n",
       "       [21,  0,  2, 39, 37,  5,  6,  7,  8, 36, 10, 35, 12, 30,  1, 51, 32,\n",
       "        16, 48, 19, 20, 45, 22, 23, 24, 14, 44,  3, 38, 17, 13, 25, 47, 41,\n",
       "        50, 11, 18,  4, 28, 27, 40, 29, 42, 43, 26, 15, 46, 33,  9, 31, 34,\n",
       "        49]])"
      ]
     },
     "execution_count": 41,
     "metadata": {},
     "output_type": "execute_result"
    }
   ],
   "source": [
    "ind = np.argpartition(hb, -4)[-4:]\n",
    "ind\n",
    "# a[ind]"
   ]
  },
  {
   "cell_type": "code",
   "execution_count": null,
   "metadata": {
    "collapsed": true
   },
   "outputs": [],
   "source": []
  }
 ],
 "metadata": {
  "kernelspec": {
   "display_name": "Python 2",
   "language": "python",
   "name": "python2"
  },
  "language_info": {
   "codemirror_mode": {
    "name": "ipython",
    "version": 2
   },
   "file_extension": ".py",
   "mimetype": "text/x-python",
   "name": "python",
   "nbconvert_exporter": "python",
   "pygments_lexer": "ipython2",
   "version": "2.7.8"
  }
 },
 "nbformat": 4,
 "nbformat_minor": 0
}
